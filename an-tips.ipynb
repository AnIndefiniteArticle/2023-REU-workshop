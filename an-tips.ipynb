{
 "cells": [
  {
   "cell_type": "markdown",
   "id": "02bfd217-8bc5-4f0d-a2a9-bcf50d5db16b",
   "metadata": {},
   "source": [
    "# Slicing arrays gives you a *pointer*, not an array\n",
    "\n",
    "A common pitfall when working with slices of data in an array is not realizing that those slices are not their own variables. They merely point to the data which is still stored in the parent array. Let's see how this can cause problems."
   ]
  },
  {
   "cell_type": "code",
   "execution_count": 2,
   "id": "87e97c73-b900-4ed9-a204-70456fb4e707",
   "metadata": {},
   "outputs": [],
   "source": [
    "import numpy as np"
   ]
  },
  {
   "cell_type": "code",
   "execution_count": 16,
   "id": "ec9f7ef6-f482-44f2-8304-e826576443ee",
   "metadata": {},
   "outputs": [
    {
     "name": "stdout",
     "output_type": "stream",
     "text": [
      "[[0. 0. 0. 0. 0. 0. 0.]\n",
      " [0. 0. 0. 0. 0. 0. 0.]\n",
      " [0. 0. 0. 0. 0. 0. 0.]\n",
      " [0. 0. 0. 0. 0. 0. 0.]\n",
      " [0. 0. 0. 0. 0. 0. 0.]\n",
      " [0. 0. 0. 0. 0. 0. 0.]\n",
      " [0. 0. 0. 0. 0. 0. 0.]]\n"
     ]
    }
   ],
   "source": [
    "# Start with making an array of zeros\n",
    "foo = np.zeros((7,7))\n",
    "print(foo)"
   ]
  },
  {
   "cell_type": "code",
   "execution_count": 17,
   "id": "9927517d-950d-451f-b4e8-8f12b578e014",
   "metadata": {},
   "outputs": [
    {
     "name": "stdout",
     "output_type": "stream",
     "text": [
      "[[0. 0. 0.]\n",
      " [0. 0. 0.]\n",
      " [0. 0. 0.]]\n"
     ]
    }
   ],
   "source": [
    "# Next, we make a new variable that is a view of the central portion of the parent\n",
    "bar = foo[2:5,2:5]\n",
    "print(bar)"
   ]
  },
  {
   "cell_type": "code",
   "execution_count": 18,
   "id": "711eda43-b537-4b9d-98e6-55a6c322a90a",
   "metadata": {},
   "outputs": [
    {
     "name": "stdout",
     "output_type": "stream",
     "text": [
      "[[1. 1. 1.]\n",
      " [1. 1. 1.]\n",
      " [1. 1. 1.]]\n",
      "[[0. 0. 0. 0. 0. 0. 0.]\n",
      " [0. 0. 0. 0. 0. 0. 0.]\n",
      " [0. 0. 1. 1. 1. 0. 0.]\n",
      " [0. 0. 1. 1. 1. 0. 0.]\n",
      " [0. 0. 1. 1. 1. 0. 0.]\n",
      " [0. 0. 0. 0. 0. 0. 0.]\n",
      " [0. 0. 0. 0. 0. 0. 0.]]\n"
     ]
    }
   ],
   "source": [
    "# We add something to that new array, thinking that we aren't touching the original data\n",
    "bar +=1\n",
    "# And we are surprised to see that the original has changed, too!\n",
    "print(bar)\n",
    "print(foo)"
   ]
  },
  {
   "cell_type": "code",
   "execution_count": 19,
   "id": "80ccc84c-4d65-44c2-819b-cdc23cf62f4a",
   "metadata": {},
   "outputs": [],
   "source": [
    "# This happen even if the variable alteration is happening inside of a function!\n",
    "def background_correction(array):\n",
    "    \"\"\" This function's purpose is to return a background-subtracted version of the input array \"\"\"\n",
    "    background = 5\n",
    "    array -= background\n",
    "    return array"
   ]
  },
  {
   "cell_type": "code",
   "execution_count": 20,
   "id": "6aff9485-b52a-45ed-ba24-331d948edc2c",
   "metadata": {},
   "outputs": [
    {
     "name": "stdout",
     "output_type": "stream",
     "text": [
      "[[-4. -4. -4.]\n",
      " [-4. -4. -4.]\n",
      " [-4. -4. -4.]]\n",
      "[[-4. -4. -4.]\n",
      " [-4. -4. -4.]\n",
      " [-4. -4. -4.]]\n",
      "[[ 0.  0.  0.  0.  0.  0.  0.]\n",
      " [ 0.  0.  0.  0.  0.  0.  0.]\n",
      " [ 0.  0. -4. -4. -4.  0.  0.]\n",
      " [ 0.  0. -4. -4. -4.  0.  0.]\n",
      " [ 0.  0. -4. -4. -4.  0.  0.]\n",
      " [ 0.  0.  0.  0.  0.  0.  0.]\n",
      " [ 0.  0.  0.  0.  0.  0.  0.]]\n"
     ]
    }
   ],
   "source": [
    "nobackbar = background_correction(bar)\n",
    "print(nobackbar)\n",
    "print(bar)\n",
    "print(foo)"
   ]
  },
  {
   "cell_type": "markdown",
   "id": "aa75072e-b7f5-4aea-a4d3-846d7a04d5dd",
   "metadata": {},
   "source": [
    "Not only has the input variable been edited by the sloppy function call, but the original `foo` array has been edited as well!\n",
    "\n",
    "Why does python behave this way? The answer is to save on memory footprint. If python made copies of every slice of every array, it would take a lot of memory to carry around those copies and it would take a lot of time to make those copies.\n",
    "\n",
    "Before you make any edits to any dataset or slice of a dataset, make a copy yourself. Here are two ways to do so when defining the array slice, and two ways to do so within the function call."
   ]
  },
  {
   "cell_type": "code",
   "execution_count": 21,
   "id": "0a6968d1-510f-421f-877f-92a5777b2e4b",
   "metadata": {},
   "outputs": [],
   "source": [
    "# Method 1: using an array-slice's copy method (fast and simple)\n",
    "bar = foo[2:5,2:5].copy()\n",
    "# Method 2: using the built-in np.copy(function) (versatile and can be used for many object types!)\n",
    "bar = np.copy(foo[2:5,2:5])\n",
    "# Method 3: at the top of a function to make sure it is \"memory safe\"\n",
    "def background_correction(array):\n",
    "    \"\"\" This function's purpose is to return a background-subtracted version of the input array \"\"\"\n",
    "    arraycopy = array.copy()\n",
    "    background = 5\n",
    "    arraycopy -= background\n",
    "    return arraycopy\n",
    "# Method 4: just don't store anything back into the input variables in a function definition\n",
    "def background_correction(array):\n",
    "    \"\"\" This function's purpose is to return a background-subtracted version of the input array \"\"\"\n",
    "    background = 5\n",
    "    correctedarray = array - background\n",
    "    return correctedarray"
   ]
  },
  {
   "cell_type": "markdown",
   "id": "cc8ad31b-998b-4e01-9f72-9b19c9190bc2",
   "metadata": {},
   "source": [
    "Making too many copies can be bad for performance. Sometimes it's harder to notice when an array is being modified. Making copies when defining new variables is a useful tool for debugging, but make sure to clean up after yourself if you've proven that making a copy doesn't help in a given situation!"
   ]
  },
  {
   "cell_type": "markdown",
   "id": "753c08e2-5f7b-4530-a488-09a232fcf937",
   "metadata": {},
   "source": [
    "# For loops and performance\n",
    "Python is slow, especially when looping through large datasets, and especially especially when doing nested loops through big arrays. C is faster than python, [about two orders of magnitude faster by some metrics](https://github.com/niklas-heer/speed-comparison). Numpy functions are written in C. Any time you can offload a for loop into a numpy function (usually a broadcast), you can greatly speed up your code."
   ]
  },
  {
   "cell_type": "code",
   "execution_count": 13,
   "id": "756447b0-7e93-4a2e-86f1-d5266d27175e",
   "metadata": {},
   "outputs": [],
   "source": [
    "# not really all that big, but big enough to see the effect\n",
    "bigarray = np.ones((1000,1000))\n",
    "import time"
   ]
  },
  {
   "cell_type": "code",
   "execution_count": 14,
   "id": "e2aae33c-1f01-4e62-a6e8-056dea5ac720",
   "metadata": {},
   "outputs": [
    {
     "name": "stdout",
     "output_type": "stream",
     "text": [
      "for loops time: 0.6813843250274658\n"
     ]
    }
   ],
   "source": [
    "start = time.time()\n",
    "for i in range(len(bigarray)):\n",
    "    for j in range(len(bigarray[0])):\n",
    "        bigarray[i][j] + bigarray[j][i]\n",
    "\n",
    "print(\"for loops time: \" + str(time.time()-start))\n",
    "# On my computer this took 0.643669843673706 seconds"
   ]
  },
  {
   "cell_type": "code",
   "execution_count": 15,
   "id": "4f8f8043-db47-4dcb-b494-95629588415b",
   "metadata": {},
   "outputs": [
    {
     "name": "stdout",
     "output_type": "stream",
     "text": [
      "with array transformation in C: 0.005844831466674805\n"
     ]
    }
   ],
   "source": [
    "start = time.time()\n",
    "bigarray + bigarray.transpose()\n",
    "print(\"with array transformation in C: \" + str(time.time()-start))\n",
    "# On my computer this took 0.005024433135986328 seconds"
   ]
  },
  {
   "cell_type": "markdown",
   "id": "bad91906-089c-4fc7-aa2c-62be0ffcb878",
   "metadata": {},
   "source": [
    "You can easily see how this can really start to add up if you are doing more complex operations within the for loop, and/or operating on datasets that are actually really big.\n",
    "\n",
    "If your code is having performance problems, or if you just want to avoid them, a good rule of thumb is to offload as many for loops into C as possible. Sometimes this involves getting creative with array transformations and mathematical relationships.\n",
    "\n",
    "If you are having performance issues and aren't sure how to remove some of your for loops, this manual is your best friend: https://numpy.org/doc/stable/user/basics.broadcasting.html"
   ]
  }
 ],
 "metadata": {
  "kernelspec": {
   "display_name": "Python 3 (ipykernel)",
   "language": "python",
   "name": "python3"
  },
  "language_info": {
   "codemirror_mode": {
    "name": "ipython",
    "version": 3
   },
   "file_extension": ".py",
   "mimetype": "text/x-python",
   "name": "python",
   "nbconvert_exporter": "python",
   "pygments_lexer": "ipython3",
   "version": "3.11.3"
  }
 },
 "nbformat": 4,
 "nbformat_minor": 5
}
